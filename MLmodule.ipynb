{
  "nbformat": 4,
  "nbformat_minor": 0,
  "metadata": {
    "colab": {
      "provenance": [],
      "authorship_tag": "ABX9TyPkJV9rHZn0bXuIEEMl3+L1",
      "include_colab_link": true
    },
    "kernelspec": {
      "name": "python3",
      "display_name": "Python 3"
    },
    "language_info": {
      "name": "python"
    }
  },
  "cells": [
    {
      "cell_type": "markdown",
      "metadata": {
        "id": "view-in-github",
        "colab_type": "text"
      },
      "source": [
        "<a href=\"https://colab.research.google.com/github/Prabhash1107/SMS-Spam-Detection-NLP/blob/main/MLmodule.ipynb\" target=\"_parent\"><img src=\"https://colab.research.google.com/assets/colab-badge.svg\" alt=\"Open In Colab\"/></a>"
      ]
    },
    {
      "cell_type": "code",
      "execution_count": 1,
      "metadata": {
        "id": "VgTriXKHiO3l"
      },
      "outputs": [],
      "source": [
        "import numpy as np\n",
        "import pandas as pd\n",
        "from sklearn.feature_extraction.text import TfidfVectorizer\n",
        "from sklearn.model_selection import train_test_split\n",
        "from sklearn.naive_bayes import MultinomialNB\n",
        "from sklearn.svm import SVC\n",
        "from sklearn.linear_model import LogisticRegression\n",
        "from sklearn.neighbors import KNeighborsClassifier\n",
        "from sklearn.ensemble import RandomForestClassifier\n",
        "\n",
        "class SpamDetector:\n",
        "    def __init__(self):\n",
        "        self.df = pd.read_csv('Cleaned_Data.csv')\n",
        "        self.df['Email'] = self.df.Email.astype(str)\n",
        "\n",
        "        self.Data = self.df.Email\n",
        "        self.Labels = self.df.Label\n",
        "\n",
        "        # Split dataset\n",
        "        self.training_data, self.testing_data, self.training_labels, self.testing_labels = train_test_split(\n",
        "            self.Data, self.Labels, test_size=0.2, random_state=10\n",
        "        )\n",
        "\n",
        "        self.vectorizer = TfidfVectorizer()\n",
        "        self.training_vectors = self.vectorizer.fit_transform(self.training_data)\n",
        "\n",
        "        # Model Training\n",
        "        self.model_nb = MultinomialNB().fit(self.training_vectors, self.training_labels)\n",
        "        self.model_svm = SVC(probability=True).fit(self.training_vectors, self.training_labels)\n",
        "        self.model_lr = LogisticRegression().fit(self.training_vectors, self.training_labels)\n",
        "        self.model_knn = KNeighborsClassifier(n_neighbors=9).fit(self.training_vectors, self.training_labels)\n",
        "        self.model_rf = RandomForestClassifier(n_estimators=19).fit(self.training_vectors, self.training_labels)\n",
        "\n",
        "    def get_prediction(self, vector):\n",
        "        preds = [\n",
        "            self.model_nb.predict(vector)[0],\n",
        "            self.model_lr.predict(vector)[0],\n",
        "            self.model_rf.predict(vector)[0],\n",
        "            self.model_svm.predict(vector)[0],\n",
        "            self.model_knn.predict(vector)[0]\n",
        "        ]\n",
        "        return 'Spam' if preds.count(1) >= 3 else 'Non-Spam'\n",
        "\n",
        "    def get_probabilities(self, vector):\n",
        "        return [\n",
        "            self.model_nb.predict_proba(vector)[0] * 100,\n",
        "            self.model_lr.predict_proba(vector)[0] * 100,\n",
        "            self.model_rf.predict_proba(vector)[0] * 100,\n",
        "            self.model_knn.predict_proba(vector)[0] * 100,\n",
        "            self.model_svm.predict_proba(vector)[0] * 100,\n",
        "        ]\n",
        "\n",
        "    def get_vector(self, text):\n",
        "        return self.vectorizer.transform([text])\n"
      ]
    }
  ]
}