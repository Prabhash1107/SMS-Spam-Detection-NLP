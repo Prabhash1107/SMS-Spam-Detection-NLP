{
  "nbformat": 4,
  "nbformat_minor": 0,
  "metadata": {
    "colab": {
      "provenance": [],
      "authorship_tag": "ABX9TyNlLNmy2SxnX6mkXtJqK3kW",
      "include_colab_link": true
    },
    "kernelspec": {
      "name": "python3",
      "display_name": "Python 3"
    },
    "language_info": {
      "name": "python"
    }
  },
  "cells": [
    {
      "cell_type": "markdown",
      "metadata": {
        "id": "view-in-github",
        "colab_type": "text"
      },
      "source": [
        "<a href=\"https://colab.research.google.com/github/Prabhash1107/SMS-Spam-Detection-NLP/blob/main/userinterface.ipynb\" target=\"_parent\"><img src=\"https://colab.research.google.com/assets/colab-badge.svg\" alt=\"Open In Colab\"/></a>"
      ]
    },
    {
      "cell_type": "code",
      "execution_count": 1,
      "metadata": {
        "colab": {
          "base_uri": "https://localhost:8080/",
          "height": 383
        },
        "id": "q2yZxr8Six63",
        "outputId": "3ba430db-137f-4cba-eb7a-0f9b4692988d"
      },
      "outputs": [
        {
          "output_type": "error",
          "ename": "ModuleNotFoundError",
          "evalue": "No module named 'streamlit'",
          "traceback": [
            "\u001b[0;31m---------------------------------------------------------------------------\u001b[0m",
            "\u001b[0;31mModuleNotFoundError\u001b[0m                       Traceback (most recent call last)",
            "\u001b[0;32m<ipython-input-1-ebc7e491e067>\u001b[0m in \u001b[0;36m<cell line: 0>\u001b[0;34m()\u001b[0m\n\u001b[1;32m      1\u001b[0m \u001b[0;32mimport\u001b[0m \u001b[0mtime\u001b[0m\u001b[0;34m\u001b[0m\u001b[0;34m\u001b[0m\u001b[0m\n\u001b[0;32m----> 2\u001b[0;31m \u001b[0;32mimport\u001b[0m \u001b[0mstreamlit\u001b[0m \u001b[0;32mas\u001b[0m \u001b[0mst\u001b[0m\u001b[0;34m\u001b[0m\u001b[0;34m\u001b[0m\u001b[0m\n\u001b[0m\u001b[1;32m      3\u001b[0m \u001b[0;32mimport\u001b[0m \u001b[0mmatplotlib\u001b[0m\u001b[0;34m.\u001b[0m\u001b[0mpyplot\u001b[0m \u001b[0;32mas\u001b[0m \u001b[0mplt\u001b[0m\u001b[0;34m\u001b[0m\u001b[0;34m\u001b[0m\u001b[0m\n\u001b[1;32m      4\u001b[0m \u001b[0;32mimport\u001b[0m \u001b[0mseaborn\u001b[0m \u001b[0;32mas\u001b[0m \u001b[0msns\u001b[0m\u001b[0;34m\u001b[0m\u001b[0;34m\u001b[0m\u001b[0m\n\u001b[1;32m      5\u001b[0m \u001b[0;32mfrom\u001b[0m \u001b[0mML\u001b[0m \u001b[0;32mimport\u001b[0m \u001b[0mSpamDetector\u001b[0m\u001b[0;34m\u001b[0m\u001b[0;34m\u001b[0m\u001b[0m\n",
            "\u001b[0;31mModuleNotFoundError\u001b[0m: No module named 'streamlit'",
            "",
            "\u001b[0;31m---------------------------------------------------------------------------\u001b[0;32m\nNOTE: If your import is failing due to a missing package, you can\nmanually install dependencies using either !pip or !apt.\n\nTo view examples of installing some common dependencies, click the\n\"Open Examples\" button below.\n\u001b[0;31m---------------------------------------------------------------------------\u001b[0m\n"
          ],
          "errorDetails": {
            "actions": [
              {
                "action": "open_url",
                "actionText": "Open Examples",
                "url": "/notebooks/snippets/importing_libraries.ipynb"
              }
            ]
          }
        }
      ],
      "source": [
        "import time\n",
        "import streamlit as st\n",
        "import matplotlib.pyplot as plt\n",
        "import seaborn as sns\n",
        "from ML import SpamDetector\n",
        "from DP import clean, ents\n",
        "\n",
        "@st.cache_resource()\n",
        "def create_model():\n",
        "    return SpamDetector()\n",
        "\n",
        "st.title(\"Spade: Spam Detection System\")\n",
        "st.write(\"A Spam Detection algorithm based on Machine Learning and Natural Language Processing\")\n",
        "\n",
        "# User Input\n",
        "text = st.text_area('Enter email/text for classification', height=300, placeholder=\"Type or paste email here\")\n",
        "file = st.file_uploader(\"Upload .txt file\", type=[\"txt\"])\n",
        "\n",
        "if text or file:\n",
        "    if text and file:\n",
        "        st.error(\"Multiple inputs detected. Please provide only one input.\")\n",
        "    else:\n",
        "        given_email = text if text else file.getvalue().decode(\"utf-8\")\n",
        "\n",
        "        if len(given_email) > 20:\n",
        "            detect_button = st.button('Detect Spam')\n",
        "\n",
        "            if detect_button:\n",
        "                with st.spinner('Processing...'):\n",
        "                    model = create_model()\n",
        "                    processed_email, _ = clean(given_email)\n",
        "                    vector = model.get_vector(processed_email)\n",
        "\n",
        "                    prediction = model.get_prediction(vector)\n",
        "                    probabilities = model.get_probabilities(vector)\n",
        "\n",
        "                # Display Results\n",
        "                st.header(f\"Result: {prediction}\")\n",
        "\n",
        "                model_names = [\"Naive Bayes\", \"Logistic Regression\", \"Random Forest\", \"KNN\", \"SVM\"]\n",
        "                probs_pos = [int(p[1]) for p in probabilities]\n",
        "\n",
        "                st.subheader(\"Predicted Accuracies of Models\")\n",
        "                for i, (model_name, prob) in enumerate(zip(model_names, probs_pos)):\n",
        "                    st.write(f\"{model_name}: {prob}%\")\n",
        "                    progress_bar = st.progress(0)\n",
        "                    for j in range(prob):\n",
        "                        time.sleep(0.01)\n",
        "                        progress_bar.progress(j)\n",
        "\n",
        "                # Named Entity Recognition\n",
        "                st.subheader(\"Named Entities Extracted from the Text\")\n",
        "                extracted_entities = ents(text)\n",
        "\n",
        "                if isinstance(extracted_entities, dict):\n",
        "                    for entity_type, words in extracted_entities.items():\n",
        "                        with st.expander(f\"{entity_type} ({spacy.explain(entity_type)})\"):\n",
        "                            st.write(\", \".join(set(words)))\n",
        "                else:\n",
        "                    st.write(extracted_entities)\n"
      ]
    }
  ]
}